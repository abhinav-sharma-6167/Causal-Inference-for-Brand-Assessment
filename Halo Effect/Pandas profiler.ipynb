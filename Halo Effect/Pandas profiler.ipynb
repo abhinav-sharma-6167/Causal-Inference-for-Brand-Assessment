{
 "cells": [
  {
   "cell_type": "code",
   "execution_count": 1,
   "id": "cc77325e-0f78-477c-9a3e-5fd833accf35",
   "metadata": {},
   "outputs": [
    {
     "name": "stderr",
     "output_type": "stream",
     "text": [
      "/Users/abhinavsharma/opt/anaconda3/lib/python3.8/site-packages/IPython/core/interactiveshell.py:3165: DtypeWarning: Columns (1943,1946,1959,1962,1965,1968) have mixed types.Specify dtype option on import or set low_memory=False.\n",
      "  has_raised = await self.run_ast_nodes(code_ast.body, cell_name,\n"
     ]
    }
   ],
   "source": [
    "import pandas as pd\n",
    "import numpy as np\n",
    "df = pd.read_csv('data.csv')"
   ]
  },
  {
   "cell_type": "code",
   "execution_count": 2,
   "id": "74645514-b5bd-4420-a63c-d9ae93bfdc1b",
   "metadata": {},
   "outputs": [
    {
     "data": {
      "text/html": [
       "<div>\n",
       "<style scoped>\n",
       "    .dataframe tbody tr th:only-of-type {\n",
       "        vertical-align: middle;\n",
       "    }\n",
       "\n",
       "    .dataframe tbody tr th {\n",
       "        vertical-align: top;\n",
       "    }\n",
       "\n",
       "    .dataframe thead th {\n",
       "        text-align: right;\n",
       "    }\n",
       "</style>\n",
       "<table border=\"1\" class=\"dataframe\">\n",
       "  <thead>\n",
       "    <tr style=\"text-align: right;\">\n",
       "      <th></th>\n",
       "      <th>Unnamed: 0</th>\n",
       "      <th>version</th>\n",
       "      <th>caseid</th>\n",
       "      <th>weight_ftf</th>\n",
       "      <th>weight_web</th>\n",
       "      <th>weight_full</th>\n",
       "      <th>psu_full</th>\n",
       "      <th>psu_ftf</th>\n",
       "      <th>strata_full</th>\n",
       "      <th>strata_ftf</th>\n",
       "      <th>...</th>\n",
       "      <th>randordq_casitherm_illegal</th>\n",
       "      <th>randordq_casitherm_white</th>\n",
       "      <th>randordq_stereogroups</th>\n",
       "      <th>randordq_discrim_black</th>\n",
       "      <th>randordq_discrim_hisp</th>\n",
       "      <th>randordq_discrim_white</th>\n",
       "      <th>randordq_discrim_gay</th>\n",
       "      <th>randordq_discrim_women</th>\n",
       "      <th>randordq_stereorelig</th>\n",
       "      <th>invited_inetrecontact2013</th>\n",
       "    </tr>\n",
       "  </thead>\n",
       "  <tbody>\n",
       "    <tr>\n",
       "      <th>0</th>\n",
       "      <td>0</td>\n",
       "      <td>ANES2012TimeSeries_version20160504</td>\n",
       "      <td>1.0</td>\n",
       "      <td>0.380</td>\n",
       "      <td>0.0</td>\n",
       "      <td>0.380</td>\n",
       "      <td>1.0</td>\n",
       "      <td>1.0</td>\n",
       "      <td>6.0</td>\n",
       "      <td>6.0</td>\n",
       "      <td>...</td>\n",
       "      <td>-6.0</td>\n",
       "      <td>-6.0</td>\n",
       "      <td>-6.0</td>\n",
       "      <td>-6.0</td>\n",
       "      <td>-6.0</td>\n",
       "      <td>-6.0</td>\n",
       "      <td>-6.0</td>\n",
       "      <td>-6.0</td>\n",
       "      <td>-1.0</td>\n",
       "      <td>-1.0</td>\n",
       "    </tr>\n",
       "    <tr>\n",
       "      <th>1</th>\n",
       "      <td>1</td>\n",
       "      <td>ANES2012TimeSeries_version20160504</td>\n",
       "      <td>2.0</td>\n",
       "      <td>0.547</td>\n",
       "      <td>0.0</td>\n",
       "      <td>0.547</td>\n",
       "      <td>1.0</td>\n",
       "      <td>1.0</td>\n",
       "      <td>6.0</td>\n",
       "      <td>6.0</td>\n",
       "      <td>...</td>\n",
       "      <td>5.0</td>\n",
       "      <td>3.0</td>\n",
       "      <td>231.0</td>\n",
       "      <td>3.0</td>\n",
       "      <td>1.0</td>\n",
       "      <td>5.0</td>\n",
       "      <td>2.0</td>\n",
       "      <td>4.0</td>\n",
       "      <td>-1.0</td>\n",
       "      <td>-1.0</td>\n",
       "    </tr>\n",
       "    <tr>\n",
       "      <th>2</th>\n",
       "      <td>2</td>\n",
       "      <td>ANES2012TimeSeries_version20160504</td>\n",
       "      <td>3.0</td>\n",
       "      <td>0.497</td>\n",
       "      <td>0.0</td>\n",
       "      <td>0.497</td>\n",
       "      <td>1.0</td>\n",
       "      <td>1.0</td>\n",
       "      <td>6.0</td>\n",
       "      <td>6.0</td>\n",
       "      <td>...</td>\n",
       "      <td>5.0</td>\n",
       "      <td>4.0</td>\n",
       "      <td>132.0</td>\n",
       "      <td>-2.0</td>\n",
       "      <td>-2.0</td>\n",
       "      <td>-2.0</td>\n",
       "      <td>-2.0</td>\n",
       "      <td>-2.0</td>\n",
       "      <td>-1.0</td>\n",
       "      <td>-1.0</td>\n",
       "    </tr>\n",
       "    <tr>\n",
       "      <th>3</th>\n",
       "      <td>3</td>\n",
       "      <td>ANES2012TimeSeries_version20160504</td>\n",
       "      <td>4.0</td>\n",
       "      <td>0.254</td>\n",
       "      <td>0.0</td>\n",
       "      <td>0.254</td>\n",
       "      <td>1.0</td>\n",
       "      <td>1.0</td>\n",
       "      <td>6.0</td>\n",
       "      <td>6.0</td>\n",
       "      <td>...</td>\n",
       "      <td>5.0</td>\n",
       "      <td>3.0</td>\n",
       "      <td>213.0</td>\n",
       "      <td>3.0</td>\n",
       "      <td>2.0</td>\n",
       "      <td>5.0</td>\n",
       "      <td>1.0</td>\n",
       "      <td>4.0</td>\n",
       "      <td>-1.0</td>\n",
       "      <td>-1.0</td>\n",
       "    </tr>\n",
       "    <tr>\n",
       "      <th>4</th>\n",
       "      <td>4</td>\n",
       "      <td>ANES2012TimeSeries_version20160504</td>\n",
       "      <td>5.0</td>\n",
       "      <td>0.602</td>\n",
       "      <td>0.0</td>\n",
       "      <td>0.602</td>\n",
       "      <td>1.0</td>\n",
       "      <td>1.0</td>\n",
       "      <td>6.0</td>\n",
       "      <td>6.0</td>\n",
       "      <td>...</td>\n",
       "      <td>5.0</td>\n",
       "      <td>1.0</td>\n",
       "      <td>312.0</td>\n",
       "      <td>-2.0</td>\n",
       "      <td>-2.0</td>\n",
       "      <td>-2.0</td>\n",
       "      <td>-2.0</td>\n",
       "      <td>-2.0</td>\n",
       "      <td>-1.0</td>\n",
       "      <td>-1.0</td>\n",
       "    </tr>\n",
       "  </tbody>\n",
       "</table>\n",
       "<p>5 rows × 2250 columns</p>\n",
       "</div>"
      ],
      "text/plain": [
       "   Unnamed: 0                             version  caseid  weight_ftf  \\\n",
       "0           0  ANES2012TimeSeries_version20160504     1.0       0.380   \n",
       "1           1  ANES2012TimeSeries_version20160504     2.0       0.547   \n",
       "2           2  ANES2012TimeSeries_version20160504     3.0       0.497   \n",
       "3           3  ANES2012TimeSeries_version20160504     4.0       0.254   \n",
       "4           4  ANES2012TimeSeries_version20160504     5.0       0.602   \n",
       "\n",
       "   weight_web  weight_full  psu_full  psu_ftf  strata_full  strata_ftf  ...  \\\n",
       "0         0.0        0.380       1.0      1.0          6.0         6.0  ...   \n",
       "1         0.0        0.547       1.0      1.0          6.0         6.0  ...   \n",
       "2         0.0        0.497       1.0      1.0          6.0         6.0  ...   \n",
       "3         0.0        0.254       1.0      1.0          6.0         6.0  ...   \n",
       "4         0.0        0.602       1.0      1.0          6.0         6.0  ...   \n",
       "\n",
       "   randordq_casitherm_illegal  randordq_casitherm_white  \\\n",
       "0                        -6.0                      -6.0   \n",
       "1                         5.0                       3.0   \n",
       "2                         5.0                       4.0   \n",
       "3                         5.0                       3.0   \n",
       "4                         5.0                       1.0   \n",
       "\n",
       "   randordq_stereogroups  randordq_discrim_black  randordq_discrim_hisp  \\\n",
       "0                   -6.0                    -6.0                   -6.0   \n",
       "1                  231.0                     3.0                    1.0   \n",
       "2                  132.0                    -2.0                   -2.0   \n",
       "3                  213.0                     3.0                    2.0   \n",
       "4                  312.0                    -2.0                   -2.0   \n",
       "\n",
       "   randordq_discrim_white  randordq_discrim_gay  randordq_discrim_women  \\\n",
       "0                    -6.0                  -6.0                    -6.0   \n",
       "1                     5.0                   2.0                     4.0   \n",
       "2                    -2.0                  -2.0                    -2.0   \n",
       "3                     5.0                   1.0                     4.0   \n",
       "4                    -2.0                  -2.0                    -2.0   \n",
       "\n",
       "   randordq_stereorelig  invited_inetrecontact2013  \n",
       "0                  -1.0                       -1.0  \n",
       "1                  -1.0                       -1.0  \n",
       "2                  -1.0                       -1.0  \n",
       "3                  -1.0                       -1.0  \n",
       "4                  -1.0                       -1.0  \n",
       "\n",
       "[5 rows x 2250 columns]"
      ]
     },
     "execution_count": 2,
     "metadata": {},
     "output_type": "execute_result"
    }
   ],
   "source": [
    "df.head()"
   ]
  },
  {
   "cell_type": "code",
   "execution_count": 3,
   "id": "1a0e67fa-003a-4c22-8756-d66f0b0b0c9f",
   "metadata": {},
   "outputs": [],
   "source": [
    "df.drop(['Unnamed: 0','version'],axis=1,inplace=True)"
   ]
  },
  {
   "cell_type": "code",
   "execution_count": 9,
   "id": "5b983246-8940-4339-9039-7bb0f0f96272",
   "metadata": {},
   "outputs": [
    {
     "data": {
      "application/vnd.jupyter.widget-view+json": {
       "model_id": "ed443e9862804dd18526897b3403847f",
       "version_major": 2,
       "version_minor": 0
      },
      "text/plain": [
       "Summarize dataset:   0%|          | 0/5 [00:00<?, ?it/s]"
      ]
     },
     "metadata": {},
     "output_type": "display_data"
    },
    {
     "data": {
      "application/vnd.jupyter.widget-view+json": {
       "model_id": "80a7c98de64749b1ac0f16551e1cac2b",
       "version_major": 2,
       "version_minor": 0
      },
      "text/plain": [
       "Generate report structure:   0%|          | 0/1 [00:00<?, ?it/s]"
      ]
     },
     "metadata": {},
     "output_type": "display_data"
    },
    {
     "data": {
      "application/vnd.jupyter.widget-view+json": {
       "model_id": "92443cef41764b1ab6ed24d8e7c94f4f",
       "version_major": 2,
       "version_minor": 0
      },
      "text/plain": [
       "Render HTML:   0%|          | 0/1 [00:00<?, ?it/s]"
      ]
     },
     "metadata": {},
     "output_type": "display_data"
    },
    {
     "data": {
      "application/vnd.jupyter.widget-view+json": {
       "model_id": "cfe8a3d56da140a0811185d06d657072",
       "version_major": 2,
       "version_minor": 0
      },
      "text/plain": [
       "Export report to file:   0%|          | 0/1 [00:00<?, ?it/s]"
      ]
     },
     "metadata": {},
     "output_type": "display_data"
    }
   ],
   "source": [
    "from pandas_profiling import ProfileReport\n",
    "prof = ProfileReport(df,minimal=True)\n",
    "prof.to_file(output_file='output.html')"
   ]
  },
  {
   "cell_type": "code",
   "execution_count": null,
   "id": "b50a8484",
   "metadata": {},
   "outputs": [],
   "source": []
  }
 ],
 "metadata": {
  "kernelspec": {
   "display_name": "Python 3",
   "language": "python",
   "name": "python3"
  },
  "language_info": {
   "codemirror_mode": {
    "name": "ipython",
    "version": 3
   },
   "file_extension": ".py",
   "mimetype": "text/x-python",
   "name": "python",
   "nbconvert_exporter": "python",
   "pygments_lexer": "ipython3",
   "version": "3.8.8"
  },
  "toc": {
   "base_numbering": 1,
   "nav_menu": {},
   "number_sections": true,
   "sideBar": true,
   "skip_h1_title": false,
   "title_cell": "Table of Contents",
   "title_sidebar": "Contents",
   "toc_cell": false,
   "toc_position": {},
   "toc_section_display": true,
   "toc_window_display": false
  },
  "varInspector": {
   "cols": {
    "lenName": 16,
    "lenType": 16,
    "lenVar": 40
   },
   "kernels_config": {
    "python": {
     "delete_cmd_postfix": "",
     "delete_cmd_prefix": "del ",
     "library": "var_list.py",
     "varRefreshCmd": "print(var_dic_list())"
    },
    "r": {
     "delete_cmd_postfix": ") ",
     "delete_cmd_prefix": "rm(",
     "library": "var_list.r",
     "varRefreshCmd": "cat(var_dic_list()) "
    }
   },
   "types_to_exclude": [
    "module",
    "function",
    "builtin_function_or_method",
    "instance",
    "_Feature"
   ],
   "window_display": false
  }
 },
 "nbformat": 4,
 "nbformat_minor": 5
}
